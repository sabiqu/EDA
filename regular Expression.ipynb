{
 "cells": [
  {
   "cell_type": "markdown",
   "metadata": {},
   "source": [
    "Import necessary packages for the implementation"
   ]
  },
  {
   "cell_type": "code",
   "execution_count": 63,
   "metadata": {},
   "outputs": [],
   "source": [
    "import numpy as np\n",
    "import pandas as pd"
   ]
  },
  {
   "cell_type": "markdown",
   "metadata": {},
   "source": [
    "Loading the file into Notebook"
   ]
  },
  {
   "cell_type": "code",
   "execution_count": 2,
   "metadata": {},
   "outputs": [],
   "source": [
    "df= pd.read_excel(r'02_text_mining_example.xlsx')"
   ]
  },
  {
   "cell_type": "markdown",
   "metadata": {},
   "source": [
    "View of the file"
   ]
  },
  {
   "cell_type": "code",
   "execution_count": 64,
   "metadata": {},
   "outputs": [
    {
     "data": {
      "text/html": [
       "<div>\n",
       "<style scoped>\n",
       "    .dataframe tbody tr th:only-of-type {\n",
       "        vertical-align: middle;\n",
       "    }\n",
       "\n",
       "    .dataframe tbody tr th {\n",
       "        vertical-align: top;\n",
       "    }\n",
       "\n",
       "    .dataframe thead th {\n",
       "        text-align: right;\n",
       "    }\n",
       "</style>\n",
       "<table border=\"1\" class=\"dataframe\">\n",
       "  <thead>\n",
       "    <tr style=\"text-align: right;\">\n",
       "      <th></th>\n",
       "      <th>description</th>\n",
       "      <th>Q3</th>\n",
       "      <th>Q1</th>\n",
       "      <th>Q4</th>\n",
       "    </tr>\n",
       "  </thead>\n",
       "  <tbody>\n",
       "    <tr>\n",
       "      <th>1</th>\n",
       "      <td>Welcome to your new dream home!  This exceptio...</td>\n",
       "      <td>[(300 CHF, HF)]</td>\n",
       "      <td>[1600, 15, 2014, 3, 300, 1, 2016]</td>\n",
       "      <td>[elcome to your new dream home!  This exceptio...</td>\n",
       "    </tr>\n",
       "    <tr>\n",
       "      <th>8</th>\n",
       "      <td>One-familiy house for sale in a municipality w...</td>\n",
       "      <td>[]</td>\n",
       "      <td>[7.5, 4, 1, 1, 705, 2, 3, 15, 30]</td>\n",
       "      <td>[ne-familiy house for sale in a municipality w...</td>\n",
       "    </tr>\n",
       "    <tr>\n",
       "      <th>2</th>\n",
       "      <td>A unique opportunity near the Zug city center!...</td>\n",
       "      <td>[]</td>\n",
       "      <td>[6.5, 150, 2, 10, 3]</td>\n",
       "      <td>[unique opportunity near the Zug city center!V...</td>\n",
       "    </tr>\n",
       "    <tr>\n",
       "      <th>6</th>\n",
       "      <td>Thank you for your interest in this unique pro...</td>\n",
       "      <td>[]</td>\n",
       "      <td>[6.5]</td>\n",
       "      <td>[hank you for your interest in this unique pro...</td>\n",
       "    </tr>\n",
       "    <tr>\n",
       "      <th>9</th>\n",
       "      <td>House in Rüschlikon (4-levels plus cellar) to ...</td>\n",
       "      <td>[(2 A,  A), (200 CHF, HF), (400 S,  S)]</td>\n",
       "      <td>[4, 7.5, 8.5, 2, 6, 3, 4, 2, 1, 2, 6, 2, 200, ...</td>\n",
       "      <td>[ouse in Rüschlikon (4-levels plus cellar) to ...</td>\n",
       "    </tr>\n",
       "    <tr>\n",
       "      <th>5</th>\n",
       "      <td>Large single family home built in 1984 within ...</td>\n",
       "      <td>[(200 CHF, HF)]</td>\n",
       "      <td>[1984, 2001, 1, 200, 6, 1, 2]</td>\n",
       "      <td>[arge single family home built in 1984 within ...</td>\n",
       "    </tr>\n",
       "    <tr>\n",
       "      <th>0</th>\n",
       "      <td>Home to rent in Steinhausen, near Zug  The per...</td>\n",
       "      <td>[(2 E,  E)]</td>\n",
       "      <td>[7, 5, 3, 2, 5, 10]</td>\n",
       "      <td>[ome to rent in Steinhausen, near Zug  The per...</td>\n",
       "    </tr>\n",
       "    <tr>\n",
       "      <th>7</th>\n",
       "      <td>High-standing duplex villa located in quiet, r...</td>\n",
       "      <td>[]</td>\n",
       "      <td>[4, 18, 2, 208, 149]</td>\n",
       "      <td>[igh-standing duplex villa located in quiet, r...</td>\n",
       "    </tr>\n",
       "    <tr>\n",
       "      <th>3</th>\n",
       "      <td>Lengnau is a \"lively\" village with many intern...</td>\n",
       "      <td>[]</td>\n",
       "      <td>[9, 5, 1990, 6.5, 2, 240, 2]</td>\n",
       "      <td>[engnau is a \"lively\" village with many intern...</td>\n",
       "    </tr>\n",
       "    <tr>\n",
       "      <th>4</th>\n",
       "      <td>Fare-faced concrete single-family home – only ...</td>\n",
       "      <td>[]</td>\n",
       "      <td>[30, 4]</td>\n",
       "      <td>[are-faced concrete single-family home – only ...</td>\n",
       "    </tr>\n",
       "  </tbody>\n",
       "</table>\n",
       "</div>"
      ],
      "text/plain": [
       "                                         description  \\\n",
       "1  Welcome to your new dream home!  This exceptio...   \n",
       "8  One-familiy house for sale in a municipality w...   \n",
       "2  A unique opportunity near the Zug city center!...   \n",
       "6  Thank you for your interest in this unique pro...   \n",
       "9  House in Rüschlikon (4-levels plus cellar) to ...   \n",
       "5  Large single family home built in 1984 within ...   \n",
       "0  Home to rent in Steinhausen, near Zug  The per...   \n",
       "7  High-standing duplex villa located in quiet, r...   \n",
       "3  Lengnau is a \"lively\" village with many intern...   \n",
       "4  Fare-faced concrete single-family home – only ...   \n",
       "\n",
       "                                        Q3  \\\n",
       "1                          [(300 CHF, HF)]   \n",
       "8                                       []   \n",
       "2                                       []   \n",
       "6                                       []   \n",
       "9  [(2 A,  A), (200 CHF, HF), (400 S,  S)]   \n",
       "5                          [(200 CHF, HF)]   \n",
       "0                              [(2 E,  E)]   \n",
       "7                                       []   \n",
       "3                                       []   \n",
       "4                                       []   \n",
       "\n",
       "                                                  Q1  \\\n",
       "1                  [1600, 15, 2014, 3, 300, 1, 2016]   \n",
       "8                  [7.5, 4, 1, 1, 705, 2, 3, 15, 30]   \n",
       "2                               [6.5, 150, 2, 10, 3]   \n",
       "6                                              [6.5]   \n",
       "9  [4, 7.5, 8.5, 2, 6, 3, 4, 2, 1, 2, 6, 2, 200, ...   \n",
       "5                      [1984, 2001, 1, 200, 6, 1, 2]   \n",
       "0                                [7, 5, 3, 2, 5, 10]   \n",
       "7                               [4, 18, 2, 208, 149]   \n",
       "3                       [9, 5, 1990, 6.5, 2, 240, 2]   \n",
       "4                                            [30, 4]   \n",
       "\n",
       "                                                  Q4  \n",
       "1  [elcome to your new dream home!  This exceptio...  \n",
       "8  [ne-familiy house for sale in a municipality w...  \n",
       "2  [unique opportunity near the Zug city center!V...  \n",
       "6  [hank you for your interest in this unique pro...  \n",
       "9  [ouse in Rüschlikon (4-levels plus cellar) to ...  \n",
       "5  [arge single family home built in 1984 within ...  \n",
       "0  [ome to rent in Steinhausen, near Zug  The per...  \n",
       "7  [igh-standing duplex villa located in quiet, r...  \n",
       "3  [engnau is a \"lively\" village with many intern...  \n",
       "4  [are-faced concrete single-family home – only ...  "
      ]
     },
     "execution_count": 64,
     "metadata": {},
     "output_type": "execute_result"
    }
   ],
   "source": [
    "df.sample(10)"
   ]
  },
  {
   "cell_type": "markdown",
   "metadata": {},
   "source": [
    "importing the regular expression module"
   ]
  },
  {
   "cell_type": "code",
   "execution_count": 65,
   "metadata": {},
   "outputs": [],
   "source": [
    "import re"
   ]
  },
  {
   "cell_type": "markdown",
   "metadata": {},
   "source": [
    "Q1-View of all the digits"
   ]
  },
  {
   "cell_type": "code",
   "execution_count": 66,
   "metadata": {},
   "outputs": [],
   "source": [
    "df['Q1'] = df.description.str.findall(r'\\d*\\.?\\d+')"
   ]
  },
  {
   "cell_type": "markdown",
   "metadata": {},
   "source": [
    "Q2- Range of numbers"
   ]
  },
  {
   "cell_type": "code",
   "execution_count": 215,
   "metadata": {},
   "outputs": [],
   "source": [
    "# df['Q2'] = re.match(r'\\d+',df.Q1)"
   ]
  },
  {
   "cell_type": "markdown",
   "metadata": {},
   "source": [
    "Q3 - Digit followed by alphanumeric character "
   ]
  },
  {
   "cell_type": "code",
   "execution_count": 145,
   "metadata": {
    "scrolled": true
   },
   "outputs": [],
   "source": [
    "df['Q3'] = df.description.str.findall(r'[0-9][a-zA-Z0-9_]*')"
   ]
  },
  {
   "cell_type": "markdown",
   "metadata": {},
   "source": [
    "Q4 - combination of a lowercase character, followed by any character and then by a digit."
   ]
  },
  {
   "cell_type": "code",
   "execution_count": 146,
   "metadata": {
    "scrolled": false
   },
   "outputs": [],
   "source": [
    "df['Q4'] = df.description.str.findall(r'[a-z]+ +.*[0-9]+')"
   ]
  },
  {
   "cell_type": "markdown",
   "metadata": {},
   "source": [
    "Space followed by two small letters than again space"
   ]
  },
  {
   "cell_type": "code",
   "execution_count": 179,
   "metadata": {},
   "outputs": [],
   "source": [
    "df['Q5'] = df.description.str.findall(r' .[a-za-z] ')"
   ]
  },
  {
   "cell_type": "code",
   "execution_count": 226,
   "metadata": {},
   "outputs": [
    {
     "data": {
      "text/html": [
       "<div>\n",
       "<style scoped>\n",
       "    .dataframe tbody tr th:only-of-type {\n",
       "        vertical-align: middle;\n",
       "    }\n",
       "\n",
       "    .dataframe tbody tr th {\n",
       "        vertical-align: top;\n",
       "    }\n",
       "\n",
       "    .dataframe thead th {\n",
       "        text-align: right;\n",
       "    }\n",
       "</style>\n",
       "<table border=\"1\" class=\"dataframe\">\n",
       "  <thead>\n",
       "    <tr style=\"text-align: right;\">\n",
       "      <th></th>\n",
       "      <th>description</th>\n",
       "      <th>Q3</th>\n",
       "      <th>Q1</th>\n",
       "      <th>Q4</th>\n",
       "      <th>Q2</th>\n",
       "      <th>Q5</th>\n",
       "      <th>Q6</th>\n",
       "    </tr>\n",
       "  </thead>\n",
       "  <tbody>\n",
       "    <tr>\n",
       "      <th>0</th>\n",
       "      <td>Home to rent in Steinhausen, near Zug  The per...</td>\n",
       "      <td>[7, 5, 3, 2, 5, 10]</td>\n",
       "      <td>[7, 5, 3, 2, 5, 10]</td>\n",
       "      <td>[ome to rent in Steinhausen, near Zug  The per...</td>\n",
       "      <td>&lt;filter object at 0x000001BAA0D96DD8&gt;</td>\n",
       "      <td>[ to ,  in ,  in ,  of ,  of ,  tv ,  in ,  in...</td>\n",
       "      <td>[]</td>\n",
       "    </tr>\n",
       "    <tr>\n",
       "      <th>1</th>\n",
       "      <td>Welcome to your new dream home!  This exceptio...</td>\n",
       "      <td>[1600, 15, 2014, 3, 300, 1st, 2016]</td>\n",
       "      <td>[1600, 15, 2014, 3, 300, 1, 2016]</td>\n",
       "      <td>[elcome to your new dream home!  This exceptio...</td>\n",
       "      <td>&lt;filter object at 0x000001BAA0D96DD8&gt;</td>\n",
       "      <td>[ to ,  is ,  in ,  to ,  in ,  of ,  at ,  as...</td>\n",
       "      <td>[]</td>\n",
       "    </tr>\n",
       "    <tr>\n",
       "      <th>2</th>\n",
       "      <td>A unique opportunity near the Zug city center!...</td>\n",
       "      <td>[6, 5, 150, 2, 10, 3]</td>\n",
       "      <td>[6.5, 150, 2, 10, 3]</td>\n",
       "      <td>[unique opportunity near the Zug city center!V...</td>\n",
       "      <td>&lt;filter object at 0x000001BAA0D96DD8&gt;</td>\n",
       "      <td>[ of ,  is ,  in ,  to ,  to ,  to ,  be ,  as...</td>\n",
       "      <td>[]</td>\n",
       "    </tr>\n",
       "    <tr>\n",
       "      <th>3</th>\n",
       "      <td>Lengnau is a \"lively\" village with many intern...</td>\n",
       "      <td>[9, 5, 1990, 6, 5, 2, 240, 2]</td>\n",
       "      <td>[9, 5, 1990, 6.5, 2, 240, 2]</td>\n",
       "      <td>[engnau is a \"lively\" village with many intern...</td>\n",
       "      <td>&lt;filter object at 0x000001BAA0D96DD8&gt;</td>\n",
       "      <td>[ is ,  is ,  km ,  to ,  by ,  or ,  to ,  is...</td>\n",
       "      <td>[]</td>\n",
       "    </tr>\n",
       "    <tr>\n",
       "      <th>4</th>\n",
       "      <td>Fare-faced concrete single-family home – only ...</td>\n",
       "      <td>[30, 4]</td>\n",
       "      <td>[30, 4]</td>\n",
       "      <td>[faced concrete single-family home – only a 30...</td>\n",
       "      <td>&lt;filter object at 0x000001BAA0D96DD8&gt;</td>\n",
       "      <td>[ or ,  in ,  we ,  of ,  in ,  to ,  it ,  of...</td>\n",
       "      <td>[]</td>\n",
       "    </tr>\n",
       "    <tr>\n",
       "      <th>5</th>\n",
       "      <td>Large single family home built in 1984 within ...</td>\n",
       "      <td>[1984, 2001, 1, 200, 6, 1, 2]</td>\n",
       "      <td>[1984, 2001, 1, 200, 6, 1, 2]</td>\n",
       "      <td>[arge single family home built in 1984 within ...</td>\n",
       "      <td>&lt;filter object at 0x000001BAA0D96DD8&gt;</td>\n",
       "      <td>[ in ,  It ,  be ,  of ,  In ,  of ,  to ,  an...</td>\n",
       "      <td>[]</td>\n",
       "    </tr>\n",
       "    <tr>\n",
       "      <th>6</th>\n",
       "      <td>Thank you for your interest in this unique pro...</td>\n",
       "      <td>[6, 5]</td>\n",
       "      <td>[6.5]</td>\n",
       "      <td>[hank you for your interest in this unique pro...</td>\n",
       "      <td>&lt;filter object at 0x000001BAA0D96DD8&gt;</td>\n",
       "      <td>[ in ,  is ,  on ,  of ,  in ,  of ,  is ,  on...</td>\n",
       "      <td>[]</td>\n",
       "    </tr>\n",
       "    <tr>\n",
       "      <th>7</th>\n",
       "      <td>High-standing duplex villa located in quiet, r...</td>\n",
       "      <td>[4, 18, 2, 208, 149]</td>\n",
       "      <td>[4, 18, 2, 208, 149]</td>\n",
       "      <td>[standing duplex villa located in quiet, resid...</td>\n",
       "      <td>&lt;filter object at 0x000001BAA0D96DD8&gt;</td>\n",
       "      <td>[ in ,  on ,  of ]</td>\n",
       "      <td>[]</td>\n",
       "    </tr>\n",
       "    <tr>\n",
       "      <th>8</th>\n",
       "      <td>One-familiy house for sale in a municipality w...</td>\n",
       "      <td>[7, 5, 4, 1, 1, 705m2, 3, 15, 30]</td>\n",
       "      <td>[7.5, 4, 1, 1, 705, 2, 3, 15, 30]</td>\n",
       "      <td>[familiy house for sale in a municipality with...</td>\n",
       "      <td>&lt;filter object at 0x000001BAA0D96DD8&gt;</td>\n",
       "      <td>[ in ,  is ,  in ,  to ,  is ,  by ,  On ,  is...</td>\n",
       "      <td>[]</td>\n",
       "    </tr>\n",
       "    <tr>\n",
       "      <th>9</th>\n",
       "      <td>House in Rüschlikon (4-levels plus cellar) to ...</td>\n",
       "      <td>[4, 7, 5, 8, 5, 2, 6m, 3, 4, 2, 1, 2, 6, 2, 20...</td>\n",
       "      <td>[4, 7.5, 8.5, 2, 6, 3, 4, 2, 1, 2, 6, 2, 200, ...</td>\n",
       "      <td>[ouse in Rüschlikon (4-levels plus cellar) to ...</td>\n",
       "      <td>&lt;filter object at 0x000001BAA0D96DD8&gt;</td>\n",
       "      <td>[ in ,  to ,  in ,  to ,  in ,  to ,  up ,  in...</td>\n",
       "      <td>[]</td>\n",
       "    </tr>\n",
       "  </tbody>\n",
       "</table>\n",
       "</div>"
      ],
      "text/plain": [
       "                                         description  \\\n",
       "0  Home to rent in Steinhausen, near Zug  The per...   \n",
       "1  Welcome to your new dream home!  This exceptio...   \n",
       "2  A unique opportunity near the Zug city center!...   \n",
       "3  Lengnau is a \"lively\" village with many intern...   \n",
       "4  Fare-faced concrete single-family home – only ...   \n",
       "5  Large single family home built in 1984 within ...   \n",
       "6  Thank you for your interest in this unique pro...   \n",
       "7  High-standing duplex villa located in quiet, r...   \n",
       "8  One-familiy house for sale in a municipality w...   \n",
       "9  House in Rüschlikon (4-levels plus cellar) to ...   \n",
       "\n",
       "                                                  Q3  \\\n",
       "0                                [7, 5, 3, 2, 5, 10]   \n",
       "1                [1600, 15, 2014, 3, 300, 1st, 2016]   \n",
       "2                              [6, 5, 150, 2, 10, 3]   \n",
       "3                      [9, 5, 1990, 6, 5, 2, 240, 2]   \n",
       "4                                            [30, 4]   \n",
       "5                      [1984, 2001, 1, 200, 6, 1, 2]   \n",
       "6                                             [6, 5]   \n",
       "7                               [4, 18, 2, 208, 149]   \n",
       "8                  [7, 5, 4, 1, 1, 705m2, 3, 15, 30]   \n",
       "9  [4, 7, 5, 8, 5, 2, 6m, 3, 4, 2, 1, 2, 6, 2, 20...   \n",
       "\n",
       "                                                  Q1  \\\n",
       "0                                [7, 5, 3, 2, 5, 10]   \n",
       "1                  [1600, 15, 2014, 3, 300, 1, 2016]   \n",
       "2                               [6.5, 150, 2, 10, 3]   \n",
       "3                       [9, 5, 1990, 6.5, 2, 240, 2]   \n",
       "4                                            [30, 4]   \n",
       "5                      [1984, 2001, 1, 200, 6, 1, 2]   \n",
       "6                                              [6.5]   \n",
       "7                               [4, 18, 2, 208, 149]   \n",
       "8                  [7.5, 4, 1, 1, 705, 2, 3, 15, 30]   \n",
       "9  [4, 7.5, 8.5, 2, 6, 3, 4, 2, 1, 2, 6, 2, 200, ...   \n",
       "\n",
       "                                                  Q4  \\\n",
       "0  [ome to rent in Steinhausen, near Zug  The per...   \n",
       "1  [elcome to your new dream home!  This exceptio...   \n",
       "2  [unique opportunity near the Zug city center!V...   \n",
       "3  [engnau is a \"lively\" village with many intern...   \n",
       "4  [faced concrete single-family home – only a 30...   \n",
       "5  [arge single family home built in 1984 within ...   \n",
       "6  [hank you for your interest in this unique pro...   \n",
       "7  [standing duplex villa located in quiet, resid...   \n",
       "8  [familiy house for sale in a municipality with...   \n",
       "9  [ouse in Rüschlikon (4-levels plus cellar) to ...   \n",
       "\n",
       "                                      Q2  \\\n",
       "0  <filter object at 0x000001BAA0D96DD8>   \n",
       "1  <filter object at 0x000001BAA0D96DD8>   \n",
       "2  <filter object at 0x000001BAA0D96DD8>   \n",
       "3  <filter object at 0x000001BAA0D96DD8>   \n",
       "4  <filter object at 0x000001BAA0D96DD8>   \n",
       "5  <filter object at 0x000001BAA0D96DD8>   \n",
       "6  <filter object at 0x000001BAA0D96DD8>   \n",
       "7  <filter object at 0x000001BAA0D96DD8>   \n",
       "8  <filter object at 0x000001BAA0D96DD8>   \n",
       "9  <filter object at 0x000001BAA0D96DD8>   \n",
       "\n",
       "                                                  Q5  Q6  \n",
       "0  [ to ,  in ,  in ,  of ,  of ,  tv ,  in ,  in...  []  \n",
       "1  [ to ,  is ,  in ,  to ,  in ,  of ,  at ,  as...  []  \n",
       "2  [ of ,  is ,  in ,  to ,  to ,  to ,  be ,  as...  []  \n",
       "3  [ is ,  is ,  km ,  to ,  by ,  or ,  to ,  is...  []  \n",
       "4  [ or ,  in ,  we ,  of ,  in ,  to ,  it ,  of...  []  \n",
       "5  [ in ,  It ,  be ,  of ,  In ,  of ,  to ,  an...  []  \n",
       "6  [ in ,  is ,  on ,  of ,  in ,  of ,  is ,  on...  []  \n",
       "7                                 [ in ,  on ,  of ]  []  \n",
       "8  [ in ,  is ,  in ,  to ,  is ,  by ,  On ,  is...  []  \n",
       "9  [ in ,  to ,  in ,  to ,  in ,  to ,  up ,  in...  []  "
      ]
     },
     "execution_count": 226,
     "metadata": {},
     "output_type": "execute_result"
    }
   ],
   "source": [
    "df.to_csv('final_result.csv')"
   ]
  },
  {
   "cell_type": "code",
   "execution_count": null,
   "metadata": {},
   "outputs": [],
   "source": []
  },
  {
   "cell_type": "code",
   "execution_count": null,
   "metadata": {},
   "outputs": [],
   "source": []
  },
  {
   "cell_type": "code",
   "execution_count": null,
   "metadata": {},
   "outputs": [],
   "source": [
    "\n",
    "  \n",
    "\n"
   ]
  },
  {
   "cell_type": "code",
   "execution_count": null,
   "metadata": {},
   "outputs": [],
   "source": []
  },
  {
   "cell_type": "code",
   "execution_count": null,
   "metadata": {},
   "outputs": [],
   "source": []
  },
  {
   "cell_type": "code",
   "execution_count": null,
   "metadata": {},
   "outputs": [],
   "source": []
  }
 ],
 "metadata": {
  "kernelspec": {
   "display_name": "Python 3",
   "language": "python",
   "name": "python3"
  },
  "language_info": {
   "codemirror_mode": {
    "name": "ipython",
    "version": 3
   },
   "file_extension": ".py",
   "mimetype": "text/x-python",
   "name": "python",
   "nbconvert_exporter": "python",
   "pygments_lexer": "ipython3",
   "version": "3.6.5"
  }
 },
 "nbformat": 4,
 "nbformat_minor": 2
}
